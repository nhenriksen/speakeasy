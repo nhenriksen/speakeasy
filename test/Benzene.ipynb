{
 "cells": [
  {
   "cell_type": "markdown",
   "metadata": {},
   "source": [
    "# The improper dihedral for benzene does not get written by ParmEd"
   ]
  },
  {
   "cell_type": "markdown",
   "metadata": {},
   "source": [
    "This is a problem if someone wants to parameterize a system with SMIRNOFF99Frosst, and use ParmEd to save a `.frcmod` file so that AmberTools (e.g., `tleap`) can be used downstream to add solvent or otherwise manipulate the structure."
   ]
  },
  {
   "cell_type": "code",
   "execution_count": 1,
   "metadata": {},
   "outputs": [],
   "source": [
    "import numpy as np\n",
    "import simtk"
   ]
  },
  {
   "cell_type": "markdown",
   "metadata": {},
   "source": [
    "This is using the 0.4.1 version of the toolkit."
   ]
  },
  {
   "cell_type": "code",
   "execution_count": 2,
   "metadata": {},
   "outputs": [],
   "source": [
    "import openforcefield"
   ]
  },
  {
   "cell_type": "code",
   "execution_count": 3,
   "metadata": {
    "scrolled": true
   },
   "outputs": [
    {
     "data": {
      "text/plain": [
       "'0.4.1'"
      ]
     },
     "execution_count": 3,
     "metadata": {},
     "output_type": "execute_result"
    }
   ],
   "source": [
    "openforcefield.__version__"
   ]
  },
  {
   "cell_type": "markdown",
   "metadata": {},
   "source": [
    "The starting point is a standard `.mol2` file with Tripos atom names. (OpenEyes only)"
   ]
  },
  {
   "cell_type": "raw",
   "metadata": {},
   "source": [
    "with open(\"../data/benzene.tripos.mol2\") as file:\n",
    "    benzenze = file.read()"
   ]
  },
  {
   "cell_type": "markdown",
   "metadata": {},
   "source": [
    "## AMBER workflow to create `.frcmod` file for benzene (for example)"
   ]
  },
  {
   "cell_type": "markdown",
   "metadata": {},
   "source": [
    "Let's create an AMBER `frcmod` for reference:\n",
    "\n",
    "\n",
    "```bash\n",
    "antechamber -fi mol2 -i benzene.tripos.mol2 -fo mol2 -o benzene.gaff.mol2\n",
    "tleap -f tleap.gaff.in\n",
    "parmchk2 -i benzene.gaff.mol2 -f mol2 -o benzene.gaff.frcmod -s 2 -a Y\n",
    "```\n",
    "\n",
    "where `tleap.gaff.in` is:\n",
    "```\n",
    "source leaprc.gaff2\n",
    "mol = loadmol2 benzene.gaff.mol2\n",
    "saveamberparm mol benzene.gaff.prmtop benzene.gaff.inpcrd\n",
    "```\n",
    "\n",
    "The contents of the GAFF2 `frcmod` file is:\n",
    "\n",
    "```\n",
    "Remark line goes here\n",
    "MASS\n",
    "ca 12.010        0.360\n",
    "ha 1.008         0.135\n",
    "\n",
    "BOND\n",
    "ca-ca  378.57   1.398\n",
    "ca-ha  395.72   1.086\n",
    "\n",
    "ANGLE\n",
    "ca-ca-ca   68.767     120.020\n",
    "ca-ca-ha   48.680     119.880\n",
    "\n",
    "DIHE\n",
    "ca-ca-ca-ca   4   14.500       180.000           2.000\n",
    "ca-ca-ca-ha   4   14.500       180.000           2.000\n",
    "ha-ca-ca-ha   4   14.500       180.000           2.000\n",
    "\n",
    "IMPROPER\n",
    "ca-ca-ca-ha         1.1          180.0         2.0          Using general improper torsional angle  X- X-ca-ha, penalty score=  6.0)\n",
    "\n",
    "NONBON\n",
    "  ca          1.8606  0.0988\n",
    "  ha          1.4735  0.0161\n",
    "\n",
    "```"
   ]
  },
  {
   "cell_type": "markdown",
   "metadata": {},
   "source": [
    "## `openforcefield` toolkit workflow\n",
    "\n",
    "Tripols MOL2 → OEMols → OpenMM system → MOL2, PRMTOP, FRCMOD (via ParmED)"
   ]
  },
  {
   "cell_type": "code",
   "execution_count": 4,
   "metadata": {},
   "outputs": [
    {
     "name": "stderr",
     "output_type": "stream",
     "text": [
      "Unable to load toolkit <openforcefield.utils.toolkits.OpenEyeToolkitWrapper object at 0x7f1e001c47f0>.\n"
     ]
    }
   ],
   "source": [
    "from openforcefield.typing.engines.smirnoff import ForceField\n",
    "from openforcefield.topology import Molecule, Topology"
   ]
  },
  {
   "cell_type": "code",
   "execution_count": 5,
   "metadata": {},
   "outputs": [],
   "source": [
    "import parmed as pmd"
   ]
  },
  {
   "cell_type": "markdown",
   "metadata": {},
   "source": [
    "### 1. Read in `.mol2`"
   ]
  },
  {
   "cell_type": "code",
   "execution_count": 6,
   "metadata": {},
   "outputs": [],
   "source": [
    "mol = openforcefield.topology.Molecule.from_smiles('c1ccccc1')\n",
    "mol.generate_conformers()"
   ]
  },
  {
   "cell_type": "code",
   "execution_count": 7,
   "metadata": {},
   "outputs": [
    {
     "data": {
      "text/plain": [
       "Molecule with name '' and SMILES '[H][C]1=[C]([H])[C]([H])=[C]([H])[C]([H])=[C]1[H]'"
      ]
     },
     "execution_count": 7,
     "metadata": {},
     "output_type": "execute_result"
    }
   ],
   "source": [
    "mol"
   ]
  },
  {
   "cell_type": "markdown",
   "metadata": {},
   "source": [
    "### 2. Create topology"
   ]
  },
  {
   "cell_type": "code",
   "execution_count": 8,
   "metadata": {},
   "outputs": [],
   "source": [
    "topology = openforcefield.topology.Topology.from_molecules([mol])"
   ]
  },
  {
   "cell_type": "code",
   "execution_count": 9,
   "metadata": {},
   "outputs": [
    {
     "name": "stdout",
     "output_type": "stream",
     "text": [
      "I see 12 atoms.\n",
      "I see 12 bonds.\n",
      "I see 18 angles.\n",
      "I see 24 dihedrals.\n",
      "I see 36 impropers.\n"
     ]
    }
   ],
   "source": [
    "print(f\"I see {len([i for i in topology.topology_atoms])} atoms.\")\n",
    "\n",
    "\n",
    "print(f\"I see {len([i for i in topology.topology_bonds])} bonds.\")\n",
    "print(f\"I see {topology.n_angles} angles.\")\n",
    "print(f\"I see {topology.n_propers} dihedrals.\")\n",
    "print(f\"I see {topology.n_impropers} impropers.\")"
   ]
  },
  {
   "cell_type": "markdown",
   "metadata": {},
   "source": [
    "### 3. Parameterize"
   ]
  },
  {
   "cell_type": "code",
   "execution_count": 10,
   "metadata": {},
   "outputs": [],
   "source": [
    "ff = ForceField(\"test_forcefields/smirnoff99Frosst.offxml\")"
   ]
  },
  {
   "cell_type": "code",
   "execution_count": 11,
   "metadata": {},
   "outputs": [],
   "source": [
    "system = ff.create_openmm_system(topology)"
   ]
  },
  {
   "cell_type": "code",
   "execution_count": 12,
   "metadata": {},
   "outputs": [
    {
     "name": "stdout",
     "output_type": "stream",
     "text": [
      "I see 12 atoms.\n",
      "I see 42 mixed proper and improper dihedrals.\n",
      "I see 18 angles.\n",
      "I see 12 bonds.\n"
     ]
    }
   ],
   "source": [
    "print(f\"I see {system.getNumParticles()} atoms.\")\n",
    "\n",
    "for force in system.getForces():\n",
    "    if isinstance(force, simtk.openmm.openmm.HarmonicBondForce):\n",
    "        print(f\"I see {force.getNumBonds()} bonds.\")\n",
    "    if isinstance(force, simtk.openmm.openmm.HarmonicAngleForce):\n",
    "        print(f\"I see {force.getNumAngles()} angles.\")\n",
    "    if isinstance(force, simtk.openmm.openmm.PeriodicTorsionForce):\n",
    "        print(f\"I see {force.getNumTorsions()} mixed proper and improper dihedrals.\")"
   ]
  },
  {
   "cell_type": "markdown",
   "metadata": {},
   "source": [
    "### 4. Bring into ParmEd"
   ]
  },
  {
   "cell_type": "markdown",
   "metadata": {},
   "source": [
    "As noted by Rafal, ParmEd thinks that the central atom in an improper is the third one, but in OpenForceField is the first one! Patch that function."
   ]
  },
  {
   "cell_type": "code",
   "execution_count": 34,
   "metadata": {},
   "outputs": [],
   "source": [
    "# Monkey patch _process_dihedral to fix getting the first atom!\n",
    "from parmed.topologyobjects import (Angle, AngleType, Atom, AtomType, Bond, BondType, Cmap, CmapType,\n",
    "                               Dihedral, DihedralType, ExtraPoint, Improper, ImproperType,\n",
    "                               NonbondedException, NonbondedExceptionType, RBTorsionType,\n",
    "                               UreyBradley)\n",
    "def _process_dihedral(struct, force):\n",
    "    \"\"\" Adds periodic torsions to the structure \"\"\"\n",
    "    typemap = dict()\n",
    "    for ii in range(force.getNumTorsions()):\n",
    "        i, j, k, l, per, phase, phi_k = force.getTorsionParameters(ii)\n",
    "        ai, aj = struct.atoms[i], struct.atoms[j]\n",
    "        ak, al = struct.atoms[k], struct.atoms[l]\n",
    "        key = (per, phase._value, phi_k._value)\n",
    "        if key in typemap:\n",
    "            dihed_type = typemap[key]\n",
    "        else:\n",
    "            dihed_type = DihedralType(phi_k, per, phase)\n",
    "            typemap[key] = dihed_type\n",
    "            struct.dihedral_types.append(dihed_type)\n",
    "        # This is the line that has been changed (ak.bond_partners -> ai.bond_partners)\n",
    "        improper = (ak in ai.bond_partners and aj in ai.bond_partners and\n",
    "                    al in ai.bond_partners)\n",
    "        struct.dihedrals.append(Dihedral(ai, aj, ak, al, improper=improper,\n",
    "                                         type=dihed_type))\n",
    "    struct.dihedral_types.claim()\n",
    "pmd.openmm.topsystem._process_dihedral_old = pmd.openmm.topsystem._process_dihedral\n",
    "pmd.openmm.topsystem._process_dihedral = _process_dihedral"
   ]
  },
  {
   "cell_type": "code",
   "execution_count": 35,
   "metadata": {},
   "outputs": [],
   "source": [
    "parmed_structure = pmd.openmm.load_topology(topology.to_openmm(), system)"
   ]
  },
  {
   "cell_type": "code",
   "execution_count": 36,
   "metadata": {},
   "outputs": [
    {
     "name": "stdout",
     "output_type": "stream",
     "text": [
      "I see 12 atoms.\n",
      "I see 12 bonds.\n",
      "I see 18 angles.\n",
      "I see 42 mixed proper and improper dihedrals.\n"
     ]
    }
   ],
   "source": [
    "print(f\"I see {len(parmed_structure.atoms)} atoms.\")\n",
    "\n",
    "\n",
    "print(f\"I see {len(parmed_structure.bonds)} bonds.\")\n",
    "print(f\"I see {len(parmed_structure.angles)} angles.\")\n",
    "print(f\"I see {len(parmed_structure.dihedrals)} mixed proper and improper dihedrals.\")"
   ]
  },
  {
   "cell_type": "markdown",
   "metadata": {},
   "source": [
    "In ParmEd, I think propers and impropers are all in the same list. Only CHARMM-style impropers are included in `Structure.impropers`. See this comment: https://github.com/ParmEd/ParmEd/issues/990#issuecomment-397844139\n",
    "\n",
    "We can directly query the distinct propers and impropers, though."
   ]
  },
  {
   "cell_type": "code",
   "execution_count": 37,
   "metadata": {},
   "outputs": [
    {
     "data": {
      "text/plain": [
       "TrackedList([\n",
       "\t<DihedralType; phi_k=0.367, per=2, phase=180.000,  scee=1.000, scnb=1.000>\n",
       "\t<DihedralType; phi_k=3.625, per=2, phase=180.000,  scee=1.000, scnb=1.000>\n",
       "])"
      ]
     },
     "execution_count": 37,
     "metadata": {},
     "output_type": "execute_result"
    }
   ],
   "source": [
    "parmed_structure.dihedral_types"
   ]
  },
  {
   "cell_type": "markdown",
   "metadata": {},
   "source": [
    "**Potential bug 1. These dihedral scaling factors are wrong / not the ones intended.**\n",
    "\n",
    "I'm almost positive these should be `scee=1.2` (i.e., 1.0/1.2 = 0.83333...) and `scnb=2.0` (i.e., 1.0/2.0 = 0.5) for the 1-4 interactions."
   ]
  },
  {
   "cell_type": "code",
   "execution_count": 38,
   "metadata": {},
   "outputs": [
    {
     "data": {
      "text/plain": [
       "TrackedList([\n",
       "])"
      ]
     },
     "execution_count": 38,
     "metadata": {},
     "output_type": "execute_result"
    }
   ],
   "source": [
    "parmed_structure.improper_types"
   ]
  },
  {
   "cell_type": "markdown",
   "metadata": {},
   "source": [
    "Note the complete lack of impropers here."
   ]
  },
  {
   "cell_type": "code",
   "execution_count": 39,
   "metadata": {},
   "outputs": [],
   "source": [
    "parmed_structure.save(\"../data/benzene.smirnoff.prmtop\", overwrite=True)"
   ]
  },
  {
   "cell_type": "code",
   "execution_count": 40,
   "metadata": {},
   "outputs": [
    {
     "name": "stdout",
     "output_type": "stream",
     "text": [
      "%VERSION  VERSION_STAMP = V0001.000  DATE = 07/12/19  13:07:53\r\n",
      "%FLAG TITLE\r\n",
      "%FORMAT(20a4)\r\n",
      "\r\n",
      "%FLAG POINTERS\r\n",
      "%FORMAT(10I8)\r\n",
      "      12       2       6       6      12       6      36       6       0       0\r\n",
      "      52       1       6       6       6       2       2      23       1       0\r\n",
      "       0       0       0       0       0       0       0       0      12       0\r\n",
      "       0\r\n",
      "%FLAG ATOM_NAME\r\n",
      "%FORMAT(20a4)\r\n",
      "                                                \r\n",
      "%FLAG CHARGE\r\n",
      "%FORMAT(5E16.8)\r\n",
      " -2.36889900E+00 -2.36889900E+00 -2.36889900E+00 -2.36889900E+00 -2.36889900E+00\r\n",
      " -2.36889900E+00  2.36889900E+00  2.36889900E+00  2.36889900E+00  2.36889900E+00\r\n",
      "  2.36889900E+00  2.36889900E+00\r\n",
      "%FLAG ATOMIC_NUMBER\r\n",
      "%FORMAT(10I8)\r\n",
      "       6       6       6       6       6       6       1       1       1       1\r\n",
      "       1       1\r\n",
      "%FLAG MASS\r\n",
      "%FORMAT(5E16.8)\r\n",
      "  1.20107800E+01  1.20107800E+01  1.20107800E+01  1.20107800E+01  1.20107800E+01\r\n",
      "  1.20107800E+01  1.00794700E+00  1.00794700E+00  1.00794700E+00  1.00794700E+00\r\n",
      "  1.00794700E+00  1.00794700E+00\r\n",
      "%FLAG ATOM_TYPE_INDEX\r\n",
      "%FORMAT(10I8)\r\n",
      "       1       1       1       1       1       1       2       2       2       2\r\n",
      "       2       2\r\n",
      "%FLAG NUMBER_EXCLUDED_ATOMS\r\n",
      "%FORMAT(10I8)\r\n",
      "      10       9       8       7       6       5       2       1       1       1\r\n",
      "       1       1\r\n",
      "%FLAG NONBONDED_PARM_INDEX\r\n",
      "%FORMAT(10I8)\r\n",
      "       1       2       2       3\r\n",
      "%FLAG RESIDUE_LABEL\r\n",
      "%FORMAT(20a4)\r\n",
      "    \r\n",
      "%FLAG RESIDUE_POINTER\r\n",
      "%FORMAT(10I8)\r\n",
      "       1\r\n",
      "%FLAG BOND_FORCE_CONSTANT\r\n",
      "%FORMAT(5E16.8)\r\n",
      "  4.69000000E+02  3.67000000E+02\r\n",
      "%FLAG BOND_EQUIL_VALUE\r\n",
      "%FORMAT(5E16.8)\r\n",
      "  1.40000000E+00  1.08000000E+00\r\n",
      "%FLAG ANGLE_FORCE_CONSTANT\r\n",
      "%FORMAT(5E16.8)\r\n",
      "  7.00000000E+01  5.00000000E+01\r\n",
      "%FLAG ANGLE_EQUIL_VALUE\r\n",
      "%FORMAT(5E16.8)\r\n",
      "  2.09439510E+00  2.09439510E+00\r\n",
      "%FLAG DIHEDRAL_FORCE_CONSTANT\r\n",
      "%FORMAT(5E16.8)\r\n",
      "  3.66666667E-01  3.62500000E+00  3.62500000E+00  3.62500000E+00  3.62500000E+00\r\n",
      "  3.62500000E+00  3.62500000E+00  3.62500000E+00  3.62500000E+00  3.62500000E+00\r\n",
      "  3.62500000E+00  3.62500000E+00  3.62500000E+00  3.62500000E+00  3.62500000E+00\r\n",
      "  3.62500000E+00  3.62500000E+00  3.62500000E+00  3.62500000E+00  3.62500000E+00\r\n",
      "  3.62500000E+00  3.62500000E+00  3.62500000E+00\r\n",
      "%FLAG DIHEDRAL_PERIODICITY\r\n",
      "%FORMAT(5E16.8)\r\n",
      "  2.00000000E+00  2.00000000E+00  2.00000000E+00  2.00000000E+00  2.00000000E+00\r\n",
      "  2.00000000E+00  2.00000000E+00  2.00000000E+00  2.00000000E+00  2.00000000E+00\r\n",
      "  2.00000000E+00  2.00000000E+00  2.00000000E+00  2.00000000E+00  2.00000000E+00\r\n",
      "  2.00000000E+00  2.00000000E+00  2.00000000E+00  2.00000000E+00  2.00000000E+00\r\n",
      "  2.00000000E+00  2.00000000E+00  2.00000000E+00\r\n",
      "%FLAG DIHEDRAL_PHASE\r\n",
      "%FORMAT(5E16.8)\r\n",
      "  3.14159265E+00  3.14159265E+00  3.14159265E+00  3.14159265E+00  3.14159265E+00\r\n",
      "  3.14159265E+00  3.14159265E+00  3.14159265E+00  3.14159265E+00  3.14159265E+00\r\n",
      "  3.14159265E+00  3.14159265E+00  3.14159265E+00  3.14159265E+00  3.14159265E+00\r\n",
      "  3.14159265E+00  3.14159265E+00  3.14159265E+00  3.14159265E+00  3.14159265E+00\r\n",
      "  3.14159265E+00  3.14159265E+00  3.14159265E+00\r\n",
      "%FLAG SCEE_SCALE_FACTOR\r\n",
      "%FORMAT(5E16.8)\r\n",
      "  1.00000000E+00  1.00000000E+00  1.20000480E+00  1.20000480E+00  1.20000480E+00\r\n",
      "  1.20000480E+00  1.20000480E+00  1.20000480E+00  1.20000480E+00  1.20000480E+00\r\n",
      "  1.20000480E+00  1.20000480E+00  1.20000480E+00  1.20000480E+00  1.20000480E+00\r\n",
      "  1.20000480E+00  1.20000480E+00  1.20000480E+00  1.20000480E+00  1.20000480E+00\r\n",
      "  1.20000480E+00  1.20000480E+00  1.20000480E+00\r\n",
      "%FLAG SCNB_SCALE_FACTOR\r\n",
      "%FORMAT(5E16.8)\r\n",
      "  1.00000000E+00  1.00000000E+00  2.00000000E+00  2.00000000E+00  2.00000000E+00\r\n",
      "  2.00000000E+00  2.00000000E+00  2.00000000E+00  2.00000000E+00  2.00000000E+00\r\n",
      "  2.00000000E+00  2.00000000E+00  2.00000000E+00  2.00000000E+00  2.00000000E+00\r\n",
      "  2.00000000E+00  2.00000000E+00  2.00000000E+00  2.00000000E+00  2.00000000E+00\r\n",
      "  2.00000000E+00  2.00000000E+00  2.00000000E+00\r\n",
      "%FLAG SOLTY\r\n",
      "%FORMAT(5E16.8)\r\n",
      "  0.00000000E+00\r\n",
      "%FLAG LENNARD_JONES_ACOEF\r\n",
      "%FORMAT(5E16.8)\r\n",
      "  8.19971662E+05  7.62451550E+04  5.71629601E+03\r\n",
      "%FLAG LENNARD_JONES_BCOEF\r\n",
      "%FORMAT(5E16.8)\r\n",
      "  5.31102864E+02  1.04660679E+02  1.85196588E+01\r\n",
      "%FLAG BONDS_INC_HYDROGEN\r\n",
      "%FORMAT(10I8)\r\n",
      "       0      18       2       3      21       2       6      24       2       9\r\n",
      "      27       2      12      30       2      15      33       2\r\n",
      "%FLAG BONDS_WITHOUT_HYDROGEN\r\n",
      "%FORMAT(10I8)\r\n",
      "       0       3       1       3       6       1       6       9       1       9\r\n",
      "      12       1      12      15       1      15       0       1\r\n",
      "%FLAG ANGLES_INC_HYDROGEN\r\n",
      "%FORMAT(10I8)\r\n",
      "       0       3      21       2       0      15      33       2       3       0\r\n",
      "      18       2       3       6      24       2       6       3      21       2\r\n",
      "       6       9      27       2       9       6      24       2       9      12\r\n",
      "      30       2      12       9      27       2      12      15      33       2\r\n",
      "      15       0      18       2      15      12      30       2\r\n",
      "%FLAG ANGLES_WITHOUT_HYDROGEN\r\n",
      "%FORMAT(10I8)\r\n",
      "       0       3       6       1       0      15      12       1       3       0\r\n",
      "      15       1       3       6       9       1       6       9      12       1\r\n",
      "       9      12      15       1\r\n",
      "%FLAG DIHEDRALS_INC_HYDROGEN\r\n",
      "%FORMAT(10I8)\r\n",
      "       3       0      -6     -21       1       0      21      -6      -3       1\r\n",
      "       6       0     -21      -3       1      15       0     -12     -33       1\r\n",
      "       0      33     -12     -15       1      12       0     -33     -15       1\r\n",
      "       0       3     -15     -18       1       0      15     -18      -3       1\r\n",
      "       0      18      -3     -15       1       6       3      -9     -24       1\r\n",
      "       6       9     -24      -3       1       6      24      -3      -9       1\r\n",
      "       9       6     -12     -27       1       9      12     -27      -6       1\r\n",
      "       9      27      -6     -12       1      12       9     -15     -30       1\r\n",
      "      12      15     -30      -9       1      12      30      -9     -15       1\r\n",
      "       0       3       6      24       4       0      15      12      30       5\r\n",
      "       3       0      15      33       7       3       6       9      27       8\r\n",
      "      18       0       3       6      10       6       9      12      30      11\r\n",
      "       9       6       3      21      12       9      12      15      33      13\r\n",
      "      12       9       6      24      14      18       0      15      12      15\r\n",
      "      15       0       3      21      16      15      12       9      27      17\r\n",
      "      18       0       3      21      18      18       0      15      33      19\r\n",
      "      21       3       6      24      20      24       6       9      27      21\r\n",
      "      27       9      12      30      22      30      12      15      33      23\r\n",
      "%FLAG DIHEDRALS_WITHOUT_HYDROGEN\r\n",
      "%FORMAT(10I8)\r\n",
      "       0       3       6       9       3       0      15     -12       9       2\r\n",
      "       3       0      15      12       6       3       6      -9      12       2\r\n",
      "      15       0       3       6       9       6       9     -12      15       2\r\n",
      "%FLAG EXCLUDED_ATOMS_LIST\r\n",
      "%FORMAT(10I8)\r\n",
      "       2       3       4       5       6       7       8       9      11      12\r\n",
      "       3       4       5       6       7       8       9      10      12       4\r\n",
      "       5       6       7       8       9      10      11       5       6       8\r\n",
      "       9      10      11      12       6       7       9      10      11      12\r\n",
      "       7       8      10      11      12       8      12       9      10      11\r\n",
      "      12       0\r\n",
      "%FLAG HBOND_ACOEF\r\n",
      "%FORMAT(5E16.8)\r\n",
      "\r\n",
      "%FLAG HBOND_BCOEF\r\n",
      "%FORMAT(5E16.8)\r\n",
      "\r\n",
      "%FLAG HBCUT\r\n",
      "%FORMAT(5E16.8)\r\n",
      "\r\n",
      "%FLAG AMBER_ATOM_TYPE\r\n",
      "%FORMAT(20a4)\r\n",
      "C1  C1  C1  C1  C1  C1  H1  H1  H1  H1  H1  H1  \r\n",
      "%FLAG TREE_CHAIN_CLASSIFICATION\r\n",
      "%FORMAT(20a4)\r\n",
      "BLA BLA BLA BLA BLA BLA BLA BLA BLA BLA BLA BLA \r\n",
      "%FLAG JOIN_ARRAY\r\n",
      "%FORMAT(10I8)\r\n",
      "       0       0       0       0       0       0       0       0       0       0\r\n",
      "       0       0\r\n",
      "%FLAG IROTAT\r\n",
      "%FORMAT(10I8)\r\n",
      "       0       0       0       0       0       0       0       0       0       0\r\n",
      "       0       0\r\n",
      "%FLAG RADIUS_SET\r\n",
      "%FORMAT(1a80)\r\n",
      "0                                                                               \r\n",
      "%FLAG RADII\r\n",
      "%FORMAT(5E16.8)\r\n",
      "  0.00000000E+00  0.00000000E+00  0.00000000E+00  0.00000000E+00  0.00000000E+00\r\n",
      "  0.00000000E+00  0.00000000E+00  0.00000000E+00  0.00000000E+00  0.00000000E+00\r\n",
      "  0.00000000E+00  0.00000000E+00\r\n",
      "%FLAG SCREEN\r\n",
      "%FORMAT(5E16.8)\r\n",
      "  0.00000000E+00  0.00000000E+00  0.00000000E+00  0.00000000E+00  0.00000000E+00\r\n",
      "  0.00000000E+00  0.00000000E+00  0.00000000E+00  0.00000000E+00  0.00000000E+00\r\n",
      "  0.00000000E+00  0.00000000E+00\r\n",
      "%FLAG IPOL\r\n",
      "%FORMAT(1I8)\r\n",
      "       0\r\n"
     ]
    }
   ],
   "source": [
    "!cat ../data/benzene.smirnoff.prmtop"
   ]
  },
  {
   "cell_type": "markdown",
   "metadata": {},
   "source": [
    "**Potential bug 2. We can't yet write a `.frcmod` because the atoms do not have names.**  There probably also should have been an error raised for writing the `.prmtop`"
   ]
  },
  {
   "cell_type": "code",
   "execution_count": 31,
   "metadata": {},
   "outputs": [
    {
     "name": "stdout",
     "output_type": "stream",
     "text": [
      "0  C1\n",
      "1  C1\n",
      "2  C1\n",
      "3  C1\n",
      "4  C1\n",
      "5  C1\n",
      "6  H1\n",
      "7  H1\n",
      "8  H1\n",
      "9  H1\n",
      "10  H1\n",
      "11  H1\n"
     ]
    }
   ],
   "source": [
    "for index, atom in enumerate(parmed_structure.atoms):\n",
    "    print(index, atom.name, atom.type)"
   ]
  },
  {
   "cell_type": "markdown",
   "metadata": {},
   "source": [
    "**Potential bug 3. We cannot write out a `.frcmod`** This error looks new to me. Not sure yet how to debug."
   ]
  },
  {
   "cell_type": "code",
   "execution_count": 32,
   "metadata": {
    "scrolled": false
   },
   "outputs": [],
   "source": [
    "for index, atom in enumerate(parmed_structure.atoms):\n",
    "    atom.name = index\n",
    "    \n",
    "parm_set = pmd.amber.AmberParameterSet.from_structure(parmed_structure)\n",
    "parm_set.write(\"../data/benzene.smirnoff.frcmod\")"
   ]
  },
  {
   "cell_type": "code",
   "execution_count": 33,
   "metadata": {},
   "outputs": [
    {
     "name": "stdout",
     "output_type": "stream",
     "text": [
      "Created by ParmEd\r\n",
      "MASS\r\n",
      "C1    12.011\r\n",
      "H1     1.008\r\n",
      "\r\n",
      "BOND\r\n",
      "C1-C1    469.000   1.400\r\n",
      "C1-H1    367.000   1.080\r\n",
      "\r\n",
      "ANGLE\r\n",
      "C1-C1-C1     70.000  120.000\r\n",
      "C1-C1-H1     50.000  120.000\r\n",
      "\r\n",
      "DIHE\r\n",
      "C1-C1-C1-C1    1     3.62500000  180.000   2.0    SCEE=1.0 SCNB=1.0\r\n",
      "C1-C1-C1-H1    1     3.62500000  180.000   2.0    SCEE=1.0 SCNB=1.0\r\n",
      "H1-C1-C1-H1    1     3.62500000  180.000   2.0    SCEE=1.0 SCNB=1.0\r\n",
      "\r\n",
      "IMPROPER\r\n",
      "C1-C1-C1-H1     0.36666667  180.000   2.0\r\n",
      "\r\n",
      "NONB\r\n",
      "C1    1.90800000   0.08600000\r\n",
      "H1    1.45900000   0.01500000\r\n",
      "\r\n"
     ]
    }
   ],
   "source": [
    "!cat ../data/benzene.smirnoff.frcmod"
   ]
  },
  {
   "cell_type": "markdown",
   "metadata": {},
   "source": [
    "Success - Impropers is now populated!"
   ]
  },
  {
   "cell_type": "markdown",
   "metadata": {},
   "source": [
    "**Potential bug 4.** Even if a `.frcmod` could be written, the `IMPROPER` section would be empty, which is wrong. I'm not sure if (a) they get written to the `DIHEDRAL` section and get silently ignored by AMBER (at best undefined behavior, as far as I can tell) or (b) they are just not written at all. This may be a bug upstream of ParmEd, as it looks like the OpenMM `System` also doesn't have the correct number of torsions. I'm not 100% sure I understand what is going on here."
   ]
  },
  {
   "cell_type": "code",
   "execution_count": 41,
   "metadata": {},
   "outputs": [
    {
     "name": "stdout",
     "output_type": "stream",
     "text": [
      "# packages in environment at /home/jaime/.local/anaconda/envs/openforcefield:\r\n",
      "#\r\n",
      "# Name                    Version                   Build  Channel\r\n",
      "_libgcc_mutex             0.1                        main  \r\n",
      "alabaster                 0.7.12                     py_0    conda-forge\r\n",
      "ambermini                 16.16.0                       7    omnia\r\n",
      "asn1crypto                0.24.0                py37_1003    conda-forge\r\n",
      "atomicwrites              1.3.0                      py_0    conda-forge\r\n",
      "attrs                     19.1.0                     py_0    conda-forge\r\n",
      "babel                     2.6.0                      py_1    conda-forge\r\n",
      "backcall                  0.1.0                      py_0    conda-forge\r\n",
      "bleach                    3.1.0                      py_0    conda-forge\r\n",
      "blosc                     1.16.3               hf484d3e_0    conda-forge\r\n",
      "bokeh                     1.1.0                    py37_0    conda-forge\r\n",
      "boost                     1.68.0          py37h8619c78_1001    conda-forge\r\n",
      "boost-cpp                 1.68.0            h11c811c_1000    conda-forge\r\n",
      "bson                      0.5.8                      py_0    conda-forge\r\n",
      "bzip2                     1.0.6             h14c3975_1002    conda-forge\r\n",
      "ca-certificates           2019.6.16            hecc5488_0    conda-forge\r\n",
      "cairo                     1.16.0            ha4e643d_1000    conda-forge\r\n",
      "cerberus                  1.1                        py_1    omnia\r\n",
      "certifi                   2019.6.16                py37_0    conda-forge\r\n",
      "cffi                      1.12.3           py37h8022711_0    conda-forge\r\n",
      "cftime                    1.0.3.4         py37h3010b51_1000    conda-forge\r\n",
      "chardet                   3.0.4                 py37_1003    conda-forge\r\n",
      "click                     7.0                        py_0    conda-forge\r\n",
      "cloudpickle               1.0.0                      py_0    conda-forge\r\n",
      "clusterutils              0.3.1                    py37_1    omnia\r\n",
      "codecov                   2.0.15                   pypi_0    pypi\r\n",
      "coverage                  4.5.3            py37h14c3975_0    conda-forge\r\n",
      "cryptography              2.6.1            py37h72c5cf5_0    conda-forge\r\n",
      "curl                      7.64.1               hf8cf82a_0    conda-forge\r\n",
      "cycler                    0.10.0                     py_1    conda-forge\r\n",
      "cython                    0.29.7           py37he1b5a44_0    conda-forge\r\n",
      "cytoolz                   0.9.0.1         py37h14c3975_1001    conda-forge\r\n",
      "dask                      1.2.2                      py_0    conda-forge\r\n",
      "dask-core                 1.2.2                      py_0    conda-forge\r\n",
      "dask-jobqueue             0.4.1                      py_0    conda-forge\r\n",
      "dbus                      1.13.6               he372182_0    conda-forge\r\n",
      "decorator                 4.4.0                      py_0    conda-forge\r\n",
      "defusedxml                0.5.0                      py_1    conda-forge\r\n",
      "distributed               1.28.1                   py37_0    conda-forge\r\n",
      "docopt                    0.6.2                      py_1    conda-forge\r\n",
      "docrep                    0.2.5                      py_0    conda-forge\r\n",
      "docutils                  0.14                  py37_1001    conda-forge\r\n",
      "entrypoints               0.3                   py37_1000    conda-forge\r\n",
      "expat                     2.2.5             hf484d3e_1002    conda-forge\r\n",
      "fftw3f                    3.3.4                         2    omnia\r\n",
      "fontconfig                2.13.1            he4413a7_1000    conda-forge\r\n",
      "freetype                  2.10.0               he983fc9_0    conda-forge\r\n",
      "gettext                   0.19.8.1          hc5be6a0_1002    conda-forge\r\n",
      "glib                      2.58.3            hf63aee3_1001    conda-forge\r\n",
      "gst-plugins-base          1.14.4            hdf3bae2_1001    conda-forge\r\n",
      "gstreamer                 1.14.4            h66beb1c_1001    conda-forge\r\n",
      "hdf4                      4.2.13            h9a582f1_1002    conda-forge\r\n",
      "hdf5                      1.10.4          nompi_h3c11f04_1106    conda-forge\r\n",
      "heapdict                  1.0.0                 py37_1000    conda-forge\r\n",
      "icu                       58.2              hf484d3e_1000    conda-forge\r\n",
      "idisplay                  0.1.2                    pypi_0    pypi\r\n",
      "idna                      2.8                   py37_1000    conda-forge\r\n",
      "imagesize                 1.1.0                      py_0    conda-forge\r\n",
      "ipykernel                 5.1.0           py37h24bf2e0_1002    conda-forge\r\n",
      "ipython                   7.5.0            py37h24bf2e0_0    conda-forge\r\n",
      "ipython_genutils          0.2.0                      py_1    conda-forge\r\n",
      "ipywidgets                7.4.2                      py_0    conda-forge\r\n",
      "jedi                      0.13.3                   py37_0    conda-forge\r\n",
      "jinja2                    2.10.1                     py_0    conda-forge\r\n",
      "jpeg                      9c                h14c3975_1001    conda-forge\r\n",
      "jsonschema                3.0.1                    py37_0    conda-forge\r\n",
      "jupyter                   1.0.0                    pypi_0    pypi\r\n",
      "jupyter_client            5.2.4                      py_3    conda-forge\r\n",
      "jupyter_conda             2.4.2                      py_0    conda-forge\r\n",
      "jupyter_console           6.0.0                      py_0    conda-forge\r\n",
      "jupyter_core              4.4.0                      py_0    conda-forge\r\n",
      "jupyterlab                0.35.6                   py37_0    conda-forge\r\n",
      "jupyterlab_server         0.2.0                      py_0    conda-forge\r\n",
      "kiwisolver                1.1.0            py37hc9558a2_0    conda-forge\r\n",
      "krb5                      1.16.3            h05b26f9_1001    conda-forge\r\n",
      "latexcodec                1.0.7                      py_0    conda-forge\r\n",
      "libblas                   3.8.0                9_openblas    conda-forge\r\n",
      "libcblas                  3.8.0                9_openblas    conda-forge\r\n",
      "libcurl                   7.64.1               hda55be3_0    conda-forge\r\n",
      "libedit                   3.1.20170329      hf8c457e_1001    conda-forge\r\n",
      "libffi                    3.2.1             he1b5a44_1006    conda-forge\r\n",
      "libgcc                    7.2.0                h69d50b8_2    conda-forge\r\n",
      "libgcc-ng                 8.2.0                hdf63c60_1  \r\n",
      "libgfortran               3.0.0                         1    conda-forge\r\n",
      "libgfortran-ng            7.3.0                hdf63c60_0  \r\n",
      "libiconv                  1.15              h516909a_1005    conda-forge\r\n",
      "liblapack                 3.8.0                9_openblas    conda-forge\r\n",
      "libnetcdf                 4.6.2             hbdf4f91_1001    conda-forge\r\n",
      "libpng                    1.6.37               hed695b0_0    conda-forge\r\n",
      "libsodium                 1.0.16            h14c3975_1001    conda-forge\r\n",
      "libssh2                   1.8.2                h22169c7_2    conda-forge\r\n",
      "libstdcxx-ng              8.2.0                hdf63c60_1  \r\n",
      "libtiff                   4.0.10            h648cc4a_1001    conda-forge\r\n",
      "libuuid                   2.32.1            h14c3975_1000    conda-forge\r\n",
      "libxcb                    1.13              h14c3975_1002    conda-forge\r\n",
      "libxml2                   2.9.9                h13577e0_0    conda-forge\r\n",
      "libxslt                   1.1.32            h4785a14_1002    conda-forge\r\n",
      "locket                    0.2.0                      py_2    conda-forge\r\n",
      "lxml                      4.3.3            py37h7ec2d77_0    conda-forge\r\n",
      "lzo                       2.10              h14c3975_1000    conda-forge\r\n",
      "markupsafe                1.1.1            py37h14c3975_0    conda-forge\r\n",
      "matplotlib                3.0.3                    py37_1    conda-forge\r\n",
      "matplotlib-base           3.0.3            py37h5f35d83_1    conda-forge\r\n",
      "mdtraj                    1.9.2           py37hff88cb2_1000    conda-forge\r\n",
      "mistune                   0.8.4           py37h14c3975_1000    conda-forge\r\n",
      "mock                      3.0.5                    py37_0    conda-forge\r\n",
      "more-itertools            4.3.0                 py37_1000    conda-forge\r\n",
      "mpi                       1.0                       mpich    conda-forge\r\n",
      "mpi4py                    3.0.1            py37hf046da1_0    conda-forge\r\n",
      "mpich                     3.2.1             h1c2f66e_1008    conda-forge\r\n",
      "mpiplus                   v0.0.1                py37_1000    conda-forge\r\n",
      "msgpack-python            0.6.1            py37h6bb024c_0    conda-forge\r\n",
      "nb_conda_kernels          2.2.1                    py37_0    conda-forge\r\n",
      "nbconvert                 5.5.0                      py_0    conda-forge\r\n",
      "nbformat                  4.4.0                      py_1    conda-forge\r\n",
      "ncurses                   6.1               hf484d3e_1002    conda-forge\r\n",
      "nest-asyncio              1.0.0                    pypi_0    pypi\r\n",
      "netcdf4                   1.5.1.2          py37had58050_0    conda-forge\r\n",
      "networkx                  2.3                        py_0    conda-forge\r\n",
      "nglview                   1.2.2                    pypi_0    pypi\r\n",
      "nose                      1.3.7                 py37_1002    conda-forge\r\n",
      "nose-timer                0.7.4                      py_0    conda-forge\r\n",
      "notebook                  5.7.8                    py37_0    conda-forge\r\n",
      "numexpr                   2.6.9           py37h637b7d7_1000    conda-forge\r\n",
      "numpy                     1.16.3           py37he5ce36f_0    conda-forge\r\n",
      "numpydoc                  0.9.1                      py_0    conda-forge\r\n",
      "olefile                   0.46                       py_0    conda-forge\r\n",
      "openblas                  0.3.6                h6e990d7_2    conda-forge\r\n",
      "openeye-toolkits          2019.4.2                 pypi_0    pypi\r\n",
      "openeye-toolkits-python3-linux-x64 2019.4.2                 pypi_0    pypi\r\n",
      "openforcefield            0.4.1                    py37_0    omnia\r\n",
      "openmm                    7.3.1           py37_cuda92_rc_2    omnia\r\n",
      "openmmtools               0.18.1                   py37_0    omnia\r\n",
      "openmoltools              0.8.3                    py37_1    omnia\r\n",
      "openssl                   1.1.1b               h14c3975_1    conda-forge\r\n",
      "oset                      0.1.3                      py_1    conda-forge\r\n",
      "packaging                 19.0                       py_0    conda-forge\r\n",
      "packmol                   18.169               ha44fe06_0    conda-forge\r\n",
      "pandas                    0.24.2           py37hf484d3e_0    conda-forge\r\n",
      "pandoc                    2.7.2                         0    conda-forge\r\n",
      "pandocfilters             1.4.2                      py_1    conda-forge\r\n",
      "parmed                    3.2.0                    py37_0    omnia\r\n",
      "parso                     0.4.0                      py_0    conda-forge\r\n",
      "partd                     0.3.9                      py_0    conda-forge\r\n",
      "pcre                      8.41              hf484d3e_1003    conda-forge\r\n",
      "pdbfixer                  1.5                      py37_0    omnia\r\n",
      "pexpect                   4.7.0                    py37_0    conda-forge\r\n",
      "pickleshare               0.7.5                 py37_1000    conda-forge\r\n",
      "pillow                    6.0.0            py37he7afcd5_0    conda-forge\r\n",
      "pip                       19.1                     py37_0    conda-forge\r\n",
      "pixman                    0.34.0            h14c3975_1003    conda-forge\r\n",
      "pluggy                    0.11.0                     py_0    conda-forge\r\n",
      "prometheus_client         0.6.0                      py_0    conda-forge\r\n",
      "prompt_toolkit            2.0.9                      py_0    conda-forge\r\n",
      "propertyestimator         0+untagged.286.g2fa69ae          pypi_0    pypi\r\n",
      "psutil                    5.6.2            py37h516909a_0    conda-forge\r\n",
      "pthread-stubs             0.4               h14c3975_1001    conda-forge\r\n",
      "ptyprocess                0.6.0                   py_1001    conda-forge\r\n",
      "py                        1.8.0                      py_0    conda-forge\r\n",
      "py3dmol                   0.8.0                    pypi_0    pypi\r\n",
      "pybtex                    0.22.2                   py37_0    conda-forge\r\n",
      "pybtex-docutils           0.2.1                 py37_1000    conda-forge\r\n",
      "pycairo                   1.18.1           py37h438ddbb_0    conda-forge\r\n",
      "pycparser                 2.19                     py37_1    conda-forge\r\n",
      "pygments                  2.4.0                      py_0    conda-forge\r\n",
      "pymbar                    3.0.3            py37h3010b51_3    conda-forge\r\n",
      "pyopenssl                 19.0.0                   py37_0    conda-forge\r\n",
      "pyparsing                 2.4.0                      py_0    conda-forge\r\n",
      "pyqt                      5.9.2            py37hcca6a23_0    conda-forge\r\n",
      "pyrsistent                0.15.2           py37h516909a_0    conda-forge\r\n",
      "pysocks                   1.7.0                    py37_0    conda-forge\r\n",
      "pytables                  3.5.1            py37h442f067_1    conda-forge\r\n",
      "pytest                    4.5.0                    py37_0    conda-forge\r\n",
      "pytest-cov                2.7.1                      py_0    conda-forge\r\n",
      "python                    3.7.3                h5b0a415_0    conda-forge\r\n",
      "python-dateutil           2.8.0                      py_0    conda-forge\r\n",
      "pytz                      2019.1                     py_0    conda-forge\r\n",
      "pyyaml                    5.1              py37h14c3975_0    conda-forge\r\n",
      "pyzmq                     18.0.1           py37hc4ba49a_1    conda-forge\r\n",
      "qt                        5.9.7                h52cfd70_1    conda-forge\r\n",
      "qtconsole                 4.4.4                      py_0    conda-forge\r\n",
      "rdkit                     2019.03.1        py37h9c20d5c_0    conda-forge\r\n",
      "readline                  7.0               hf8c457e_1001    conda-forge\r\n",
      "requests                  2.21.0                py37_1000    conda-forge\r\n",
      "scipy                     1.2.1            py37h09a28d5_1    conda-forge\r\n",
      "send2trash                1.5.0                      py_0    conda-forge\r\n",
      "setuptools                41.0.1                   py37_0    conda-forge\r\n",
      "sip                       4.19.8          py37hf484d3e_1000    conda-forge\r\n",
      "six                       1.12.0                py37_1000    conda-forge\r\n",
      "snowballstemmer           1.2.1                      py_1    conda-forge\r\n",
      "sortedcontainers          2.1.0                      py_0    conda-forge\r\n",
      "sphinx                    2.0.1                      py_0    conda-forge\r\n",
      "sphinxcontrib-applehelp   1.0.1                      py_0    conda-forge\r\n",
      "sphinxcontrib-bibtex      0.4.2                      py_0    conda-forge\r\n",
      "sphinxcontrib-devhelp     1.0.1                      py_0    conda-forge\r\n",
      "sphinxcontrib-htmlhelp    1.0.2                      py_0    conda-forge\r\n",
      "sphinxcontrib-jsmath      1.0.1                      py_0    conda-forge\r\n",
      "sphinxcontrib-qthelp      1.0.2                      py_0    conda-forge\r\n",
      "sphinxcontrib-serializinghtml 1.1.1                      py_0    conda-forge\r\n",
      "sqlite                    3.26.0            h67949de_1001    conda-forge\r\n",
      "tblib                     1.3.2                      py_1    conda-forge\r\n",
      "termcolor                 1.1.0                      py_2    conda-forge\r\n",
      "terminado                 0.8.2                    py37_0    conda-forge\r\n",
      "testpath                  0.4.2                   py_1001    conda-forge\r\n",
      "tk                        8.6.9             h84994c4_1001    conda-forge\r\n",
      "toml                      0.10.0                     py_0    conda-forge\r\n",
      "toolz                     0.9.0                      py_1    conda-forge\r\n",
      "tornado                   6.0.2            py37h516909a_0    conda-forge\r\n",
      "traitlets                 4.3.2                 py37_1000    conda-forge\r\n",
      "typing                    3.6.4                    py37_0  \r\n",
      "uncertainties             3.0.3                 py37_1000    conda-forge\r\n",
      "urllib3                   1.24.3                   py37_0    conda-forge\r\n",
      "wcwidth                   0.1.7                      py_1    conda-forge\r\n",
      "webencodings              0.5.1                      py_1    conda-forge\r\n",
      "wheel                     0.33.4                   py37_0    conda-forge\r\n",
      "widgetsnbextension        3.4.2                 py37_1000    conda-forge\r\n",
      "xmltodict                 0.12.0                     py_0    conda-forge\r\n",
      "xorg-kbproto              1.0.7             h14c3975_1002    conda-forge\r\n",
      "xorg-libice               1.0.9             h516909a_1004    conda-forge\r\n",
      "xorg-libsm                1.2.3             h84519dc_1000    conda-forge\r\n",
      "xorg-libx11               1.6.7             h14c3975_1000    conda-forge\r\n",
      "xorg-libxau               1.0.9                h14c3975_0    conda-forge\r\n",
      "xorg-libxdmcp             1.1.3                h516909a_0    conda-forge\r\n",
      "xorg-libxext              1.3.4                h516909a_0    conda-forge\r\n",
      "xorg-libxrender           0.9.10            h516909a_1002    conda-forge\r\n",
      "xorg-renderproto          0.11.1            h14c3975_1002    conda-forge\r\n",
      "xorg-xextproto            7.3.0             h14c3975_1002    conda-forge\r\n",
      "xorg-xproto               7.0.31            h14c3975_1007    conda-forge\r\n",
      "xz                        5.2.4             h14c3975_1001    conda-forge\r\n",
      "yaml                      0.1.7             h14c3975_1001    conda-forge\r\n",
      "yank                      0.24.0                   pypi_0    pypi\r\n",
      "zeromq                    4.3.1             hf484d3e_1000    conda-forge\r\n",
      "zict                      0.1.4                      py_0    conda-forge\r\n",
      "zlib                      1.2.11            h14c3975_1004    conda-forge\r\n"
     ]
    }
   ],
   "source": [
    "!conda list"
   ]
  },
  {
   "cell_type": "code",
   "execution_count": null,
   "metadata": {},
   "outputs": [],
   "source": []
  }
 ],
 "metadata": {
  "kernelspec": {
   "display_name": "Python 3",
   "language": "python",
   "name": "python3"
  },
  "language_info": {
   "codemirror_mode": {
    "name": "ipython",
    "version": 3
   },
   "file_extension": ".py",
   "mimetype": "text/x-python",
   "name": "python",
   "nbconvert_exporter": "python",
   "pygments_lexer": "ipython3",
   "version": "3.7.3"
  }
 },
 "nbformat": 4,
 "nbformat_minor": 2
}
